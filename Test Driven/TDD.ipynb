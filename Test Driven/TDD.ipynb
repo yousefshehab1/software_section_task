{
 "cells": [
  {
   "cell_type": "code",
   "execution_count": 2,
   "metadata": {},
   "outputs": [
    {
     "ename": "NameError",
     "evalue": "name 'add' is not defined",
     "output_type": "error",
     "traceback": [
      "\u001b[1;31m---------------------------------------------------------------------------\u001b[0m",
      "\u001b[1;31mNameError\u001b[0m                                 Traceback (most recent call last)",
      "Cell \u001b[1;32mIn[2], line 10\u001b[0m\n\u001b[0;32m      1\u001b[0m test_cases \u001b[38;5;241m=\u001b[39m [\n\u001b[0;32m      2\u001b[0m     {\u001b[38;5;124m\"\u001b[39m\u001b[38;5;124mnum1\u001b[39m\u001b[38;5;124m\"\u001b[39m: \u001b[38;5;241m1\u001b[39m, \u001b[38;5;124m\"\u001b[39m\u001b[38;5;124mnum2\u001b[39m\u001b[38;5;124m\"\u001b[39m: \u001b[38;5;241m3\u001b[39m, \u001b[38;5;124m\"\u001b[39m\u001b[38;5;124mexpected\u001b[39m\u001b[38;5;124m\"\u001b[39m: \u001b[38;5;241m4\u001b[39m},\n\u001b[0;32m      3\u001b[0m     {\u001b[38;5;124m\"\u001b[39m\u001b[38;5;124mnum1\u001b[39m\u001b[38;5;124m\"\u001b[39m: \u001b[38;5;241m1\u001b[39m, \u001b[38;5;124m\"\u001b[39m\u001b[38;5;124mnum2\u001b[39m\u001b[38;5;124m\"\u001b[39m: \u001b[38;5;124m\"\u001b[39m\u001b[38;5;124minvalid\u001b[39m\u001b[38;5;124m\"\u001b[39m, \u001b[38;5;124m\"\u001b[39m\u001b[38;5;124mexpected\u001b[39m\u001b[38;5;124m\"\u001b[39m: \u001b[38;5;124m\"\u001b[39m\u001b[38;5;124mError: num2 must be a number\u001b[39m\u001b[38;5;124m\"\u001b[39m}, \n\u001b[1;32m   (...)\u001b[0m\n\u001b[0;32m      7\u001b[0m     {\u001b[38;5;124m\"\u001b[39m\u001b[38;5;124mnum1\u001b[39m\u001b[38;5;124m\"\u001b[39m: \u001b[38;5;241m100\u001b[39m, \u001b[38;5;124m\"\u001b[39m\u001b[38;5;124mnum2\u001b[39m\u001b[38;5;124m\"\u001b[39m: \u001b[38;5;241m200\u001b[39m, \u001b[38;5;124m\"\u001b[39m\u001b[38;5;124mexpected\u001b[39m\u001b[38;5;124m\"\u001b[39m: \u001b[38;5;241m300\u001b[39m}\n\u001b[0;32m      8\u001b[0m ]\n\u001b[0;32m      9\u001b[0m \u001b[38;5;28;01mfor\u001b[39;00m test \u001b[38;5;129;01min\u001b[39;00m test_cases:\n\u001b[1;32m---> 10\u001b[0m     \u001b[38;5;28;01massert\u001b[39;00m \u001b[43madd\u001b[49m(test[\u001b[38;5;124m\"\u001b[39m\u001b[38;5;124mnum1\u001b[39m\u001b[38;5;124m\"\u001b[39m], test[\u001b[38;5;124m\"\u001b[39m\u001b[38;5;124mnum2\u001b[39m\u001b[38;5;124m\"\u001b[39m]) \u001b[38;5;241m==\u001b[39m test[\u001b[38;5;124m\"\u001b[39m\u001b[38;5;124mexpected\u001b[39m\u001b[38;5;124m\"\u001b[39m]\n",
      "\u001b[1;31mNameError\u001b[0m: name 'add' is not defined"
     ]
    }
   ],
   "source": [
    "test_cases = [\n",
    "    {\"num1\": 1, \"num2\": 3, \"expected\": 4},\n",
    "    {\"num1\": 1, \"num2\": \"invalid\", \"expected\": \"Error: num2 must be a number\"}, \n",
    "    {\"num1\": [1,2,3], \"num2\": 2, \"expected\": \"Error: num1 must be a number\"},\n",
    "    {\"num1\": -1, \"num2\": 1, \"expected\": 0},\n",
    "    {\"num1\": 3.5, \"num2\": 2.5, \"expected\": 6.0}, \n",
    "    {\"num1\": 100, \"num2\": 200, \"expected\": 300}\n",
    "]\n",
    "for test in test_cases:\n",
    "    assert add(test[\"num1\"], test[\"num2\"]) == test[\"expected\"]\n"
   ]
  },
  {
   "cell_type": "code",
   "execution_count": 3,
   "metadata": {},
   "outputs": [],
   "source": [
    "# TDD\n",
    "def add(num1, num2):\n",
    "    if type(num1) is not int and type(num1) is not float:\n",
    "        return \"Error: num1 must be a number\"\n",
    "    elif type(num2) is not int and type(num2) is not float:\n",
    "        return \"Error: num2 must be a number\"\n",
    "    else:\n",
    "        return num1 + num2\n",
    "\n",
    "test_cases = [\n",
    "    {\"num1\": 1, \"num2\": 3, \"expected\": 4},\n",
    "    {\"num1\": 1, \"num2\": \"invalid\", \"expected\": \"Error: num2 must be a number\"}, \n",
    "    {\"num1\": [1,2,3], \"num2\": 2, \"expected\": \"Error: num1 must be a number\"},\n",
    "    {\"num1\": -1, \"num2\": 1, \"expected\": 0},\n",
    "    {\"num1\": 3.5, \"num2\": 2.5, \"expected\": 6.0}, \n",
    "    {\"num1\": 100, \"num2\": 200, \"expected\": 300}\n",
    "    \n",
    "]\n",
    "\n",
    "for test in test_cases:\n",
    "    assert add(test[\"num1\"], test[\"num2\"]) == test[\"expected\"] "
   ]
  },
  {
   "cell_type": "code",
   "execution_count": null,
   "metadata": {},
   "outputs": [],
   "source": []
  }
 ],
 "metadata": {
  "kernelspec": {
   "display_name": "Python 3",
   "language": "python",
   "name": "python3"
  },
  "language_info": {
   "codemirror_mode": {
    "name": "ipython",
    "version": 3
   },
   "file_extension": ".py",
   "mimetype": "text/x-python",
   "name": "python",
   "nbconvert_exporter": "python",
   "pygments_lexer": "ipython3",
   "version": "3.11.1"
  }
 },
 "nbformat": 4,
 "nbformat_minor": 2
}
