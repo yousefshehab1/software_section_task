{
 "cells": [
  {
   "cell_type": "code",
   "execution_count": 1,
   "id": "f254351c",
   "metadata": {},
   "outputs": [
    {
     "name": "stdout",
     "output_type": "stream",
     "text": [
      "User Name: John\n"
     ]
    }
   ],
   "source": [
    "# Model\n",
    "class User:\n",
    "    def __init__(self, name):\n",
    "        self.name = name\n",
    "\n",
    "# View\n",
    "class UserView:\n",
    "    def display_user(self, user):\n",
    "        print(f\"User Name: {user.name}\")\n",
    "\n",
    "# Controller\n",
    "class UserController:\n",
    "    def __init__(self, user, view):\n",
    "        self.user = user\n",
    "        self.view = view\n",
    "\n",
    "    def show_user(self):\n",
    "        self.view.display_user(self.user)\n",
    "\n",
    "user = User(\"John\")\n",
    "view = UserView()\n",
    "controller = UserController(user, view)\n",
    "controller.show_user()\n"
   ]
  },
  {
   "cell_type": "code",
   "execution_count": 2,
   "id": "a1b8668a",
   "metadata": {},
   "outputs": [
    {
     "name": "stdout",
     "output_type": "stream",
     "text": [
      "Enter user name: mahmoud\n",
      "User Name: mahmoud\n"
     ]
    }
   ],
   "source": [
    "#(mvp)\n",
    "# Model\n",
    "class UserModel:\n",
    "    def __init__(self, name):\n",
    "        self.name = name\n",
    "\n",
    "# View\n",
    "class UserView:\n",
    "    def display_user(self, user):\n",
    "        print(f\"User Name: {user.name}\")\n",
    "\n",
    "    def get_user_input(self):\n",
    "        return input(\"Enter user name: \")\n",
    "\n",
    "# Presenter\n",
    "class UserPresenter:\n",
    "    def __init__(self, view):\n",
    "        self.view = view\n",
    "        self.model = None\n",
    "\n",
    "    def set_model(self, model):\n",
    "        self.model = model\n",
    "\n",
    "    def update_view(self):\n",
    "        if self.model:\n",
    "            self.view.display_user(self.model)\n",
    "\n",
    "    def handle_user_input(self):\n",
    "        name = self.view.get_user_input()\n",
    "        self.model = UserModel(name)\n",
    "        self.update_view()\n",
    "\n",
    "# Usage\n",
    "view = UserView()\n",
    "presenter = UserPresenter(view)\n",
    "presenter.handle_user_input()\n"
   ]
  },
  {
   "cell_type": "code",
   "execution_count": 3,
   "id": "8d9ad3ff",
   "metadata": {},
   "outputs": [
    {
     "name": "stdout",
     "output_type": "stream",
     "text": [
      "User Name: JOHN\n"
     ]
    }
   ],
   "source": [
    "# Model\n",
    "class User:\n",
    "    def __init__(self, name):\n",
    "        self.name = name\n",
    "\n",
    "# ViewModel\n",
    "class UserViewModel:\n",
    "    def __init__(self, user):\n",
    "        self.user = user\n",
    "\n",
    "    @property\n",
    "    def display_name(self):\n",
    "        return self.user.name.upper()\n",
    "\n",
    "# View\n",
    "class UserView:\n",
    "    def __init__(self, view_model):\n",
    "        self.view_model = view_model\n",
    "\n",
    "    def display_user(self):\n",
    "        print(f\"User Name: {self.view_model.display_name}\")\n",
    "\n",
    "# Usage\n",
    "user = User(\"John\")\n",
    "view_model = UserViewModel(user)\n",
    "view = UserView(view_model)\n",
    "view.display_user()  # Output: User Name: JOHN\n"
   ]
  },
  {
   "cell_type": "code",
   "execution_count": null,
   "id": "598f9c44",
   "metadata": {},
   "outputs": [],
   "source": []
  }
 ],
 "metadata": {
  "kernelspec": {
   "display_name": "Python 3 (ipykernel)",
   "language": "python",
   "name": "python3"
  },
  "language_info": {
   "codemirror_mode": {
    "name": "ipython",
    "version": 3
   },
   "file_extension": ".py",
   "mimetype": "text/x-python",
   "name": "python",
   "nbconvert_exporter": "python",
   "pygments_lexer": "ipython3",
   "version": "3.9.13"
  }
 },
 "nbformat": 4,
 "nbformat_minor": 5
}
